{
 "cells": [
  {
   "cell_type": "code",
   "execution_count": 1,
   "metadata": {
    "collapsed": true
   },
   "outputs": [],
   "source": [
    "#!pip install --upgrade google-cloud-bigquery"
   ]
  },
  {
   "cell_type": "code",
   "execution_count": 2,
   "metadata": {
    "collapsed": true
   },
   "outputs": [],
   "source": [
    "#!pip install ipython-sql"
   ]
  },
  {
   "cell_type": "code",
   "execution_count": 3,
   "metadata": {
    "collapsed": true
   },
   "outputs": [],
   "source": [
    "#!pip list"
   ]
  },
  {
   "cell_type": "code",
   "execution_count": 1,
   "metadata": {
    "collapsed": true
   },
   "outputs": [],
   "source": [
    "from google.cloud import bigquery\n",
    "import pandas as pd"
   ]
  },
  {
   "cell_type": "code",
   "execution_count": 2,
   "metadata": {
    "collapsed": true
   },
   "outputs": [],
   "source": [
    "import os\n",
    "os.environ[\"GOOGLE_APPLICATION_CREDENTIALS\"]=\"My First Project-922625eb09a6.json\" #<Your Google_Application_Credtials json path>"
   ]
  },
  {
   "cell_type": "code",
   "execution_count": 3,
   "metadata": {
    "collapsed": true
   },
   "outputs": [],
   "source": [
    "client = bigquery.Client()"
   ]
  },
  {
   "cell_type": "code",
   "execution_count": 4,
   "metadata": {},
   "outputs": [
    {
     "name": "stdout",
     "output_type": "stream",
     "text": [
      "Enter keyword for search\n",
      "Validus\n"
     ]
    }
   ],
   "source": [
    "print('Enter keyword for search')\n",
    "keyword = '%'+str(input())+'%'\n",
    "#param=bigquery.ScalarQueryParameter('title','String',input())\n"
   ]
  },
  {
   "cell_type": "code",
   "execution_count": 5,
   "metadata": {
    "collapsed": true,
    "scrolled": true
   },
   "outputs": [],
   "source": [
    "query = \"\"\"\n",
    "SELECT \n",
    "    title,url,text,DATE(timestamp) AS date\n",
    "FROM `bigquery-public-data.hacker_news.full`\n",
    "WHERE title LIKE @keyword\n",
    "ORDER BY title DESC\n",
    " ;\n",
    "\n",
    "                         \"\"\"\n",
    "\n",
    "params=[\n",
    "    bigquery.ScalarQueryParameter('keyword', 'STRING', keyword) \n",
    "    \n",
    "]\n",
    "job_config=bigquery.QueryJobConfig()\n",
    "job_config.query_parameters=params\n",
    "query_job=client.query(query,job_config=job_config)\n"
   ]
  },
  {
   "cell_type": "code",
   "execution_count": 6,
   "metadata": {
    "collapsed": true
   },
   "outputs": [],
   "source": [
    "results = query_job.result()"
   ]
  },
  {
   "cell_type": "code",
   "execution_count": 7,
   "metadata": {
    "collapsed": true
   },
   "outputs": [],
   "source": [
    "#  for row in results:\n",
    "#         print(\"title:{},url:{},text:{},date:{}\".format(row.title, row.url,row.text,row.date))"
   ]
  },
  {
   "cell_type": "code",
   "execution_count": 8,
   "metadata": {
    "collapsed": true
   },
   "outputs": [],
   "source": [
    "articles=pd.DataFrame(columns=['title','URL','text','date'])\n",
    "for row in results:\n",
    "    articles.loc[len(articles)]=row\n",
    "articles['date']=articles['date'].astype(str)"
   ]
  },
  {
   "cell_type": "code",
   "execution_count": 9,
   "metadata": {},
   "outputs": [
    {
     "name": "stdout",
     "output_type": "stream",
     "text": [
      "{\"title\":\"Validus: A dead simple Python data validation library\",\"URL\":\"https:\\/\\/github.com\\/shopnilsazal\\/validus\",\"text\":\"\",\"date\":\"2017-06-08\"}\n",
      "{\"title\":\"Show HN: Validus \\u2013 A dead simple Python data validation library\",\"URL\":\"https:\\/\\/github.com\\/shopnilsazal\\/validus\",\"text\":\"\",\"date\":\"2017-06-18\"}\n",
      "{\"title\":\"Show HN: Validus - A dead simple Python string validation library\",\"URL\":\"https:\\/\\/github.com\\/shopnilsazal\\/validus\",\"text\":\"\",\"date\":\"2017-12-15\"}\n"
     ]
    }
   ],
   "source": [
    "Response=articles.to_json(orient='records',lines=True)\n",
    "print(Response)"
   ]
  },
  {
   "cell_type": "code",
   "execution_count": 11,
   "metadata": {},
   "outputs": [
    {
     "name": "stdout",
     "output_type": "stream",
     "text": [
      "{\"schema\": {\"fields\":[{\"name\":\"index\",\"type\":\"integer\"},{\"name\":\"title\",\"type\":\"string\"},{\"name\":\"URL\",\"type\":\"string\"},{\"name\":\"text\",\"type\":\"string\"},{\"name\":\"date\",\"type\":\"string\"}],\"primaryKey\":[\"index\"],\"pandas_version\":\"0.20.0\"}, \"data\": [{\"index\":0,\"title\":\"Validus: A dead simple Python data validation library\",\"URL\":\"https:\\/\\/github.com\\/shopnilsazal\\/validus\",\"text\":\"\",\"date\":\"2017-06-08\"},{\"index\":1,\"title\":\"Show HN: Validus \\u2013 A dead simple Python data validation library\",\"URL\":\"https:\\/\\/github.com\\/shopnilsazal\\/validus\",\"text\":\"\",\"date\":\"2017-06-18\"},{\"index\":2,\"title\":\"Show HN: Validus - A dead simple Python string validation library\",\"URL\":\"https:\\/\\/github.com\\/shopnilsazal\\/validus\",\"text\":\"\",\"date\":\"2017-12-15\"}]}\n"
     ]
    }
   ],
   "source": [
    "ResponseTable=articles.to_json(orient='table')\n",
    "print(ResponseTable)"
   ]
  },
  {
   "cell_type": "code",
   "execution_count": 12,
   "metadata": {},
   "outputs": [
    {
     "name": "stdout",
     "output_type": "stream",
     "text": [
      "\"articles:{{\\\"title\\\":\\\"Validus: A dead simple Python data validation library\\\",\\\"URL\\\":\\\"https:\\\\/\\\\/github.com\\\\/shopnilsazal\\\\/validus\\\",\\\"text\\\":\\\"\\\",\\\"date\\\":\\\"2017-06-08\\\"}\\n{\\\"title\\\":\\\"Show HN: Validus \\\\u2013 A dead simple Python data validation library\\\",\\\"URL\\\":\\\"https:\\\\/\\\\/github.com\\\\/shopnilsazal\\\\/validus\\\",\\\"text\\\":\\\"\\\",\\\"date\\\":\\\"2017-06-18\\\"}\\n{\\\"title\\\":\\\"Show HN: Validus - A dead simple Python string validation library\\\",\\\"URL\\\":\\\"https:\\\\/\\\\/github.com\\\\/shopnilsazal\\\\/validus\\\",\\\"text\\\":\\\"\\\",\\\"date\\\":\\\"2017-12-15\\\"}}\"\n"
     ]
    }
   ],
   "source": [
    "import json\n",
    "print(json.dumps(\"articles:{\"+Response+\"}\",separators=(',', ':'),indent=4))\n"
   ]
  },
  {
   "cell_type": "code",
   "execution_count": 14,
   "metadata": {},
   "outputs": [
    {
     "data": {
      "text/html": [
       "<div>\n",
       "<style scoped>\n",
       "    .dataframe tbody tr th:only-of-type {\n",
       "        vertical-align: middle;\n",
       "    }\n",
       "\n",
       "    .dataframe tbody tr th {\n",
       "        vertical-align: top;\n",
       "    }\n",
       "\n",
       "    .dataframe thead th {\n",
       "        text-align: right;\n",
       "    }\n",
       "</style>\n",
       "<table border=\"1\" class=\"dataframe\">\n",
       "  <thead>\n",
       "    <tr style=\"text-align: right;\">\n",
       "      <th></th>\n",
       "      <th>title</th>\n",
       "      <th>URL</th>\n",
       "      <th>text</th>\n",
       "      <th>date</th>\n",
       "    </tr>\n",
       "  </thead>\n",
       "  <tbody>\n",
       "    <tr>\n",
       "      <th>0</th>\n",
       "      <td>Validus: A dead simple Python data validation ...</td>\n",
       "      <td>https://github.com/shopnilsazal/validus</td>\n",
       "      <td></td>\n",
       "      <td>2017-06-08</td>\n",
       "    </tr>\n",
       "    <tr>\n",
       "      <th>1</th>\n",
       "      <td>Show HN: Validus – A dead simple Python data v...</td>\n",
       "      <td>https://github.com/shopnilsazal/validus</td>\n",
       "      <td></td>\n",
       "      <td>2017-06-18</td>\n",
       "    </tr>\n",
       "    <tr>\n",
       "      <th>2</th>\n",
       "      <td>Show HN: Validus - A dead simple Python string...</td>\n",
       "      <td>https://github.com/shopnilsazal/validus</td>\n",
       "      <td></td>\n",
       "      <td>2017-12-15</td>\n",
       "    </tr>\n",
       "  </tbody>\n",
       "</table>\n",
       "</div>"
      ],
      "text/plain": [
       "                                               title  \\\n",
       "0  Validus: A dead simple Python data validation ...   \n",
       "1  Show HN: Validus – A dead simple Python data v...   \n",
       "2  Show HN: Validus - A dead simple Python string...   \n",
       "\n",
       "                                       URL text        date  \n",
       "0  https://github.com/shopnilsazal/validus       2017-06-08  \n",
       "1  https://github.com/shopnilsazal/validus       2017-06-18  \n",
       "2  https://github.com/shopnilsazal/validus       2017-12-15  "
      ]
     },
     "execution_count": 14,
     "metadata": {},
     "output_type": "execute_result"
    }
   ],
   "source": [
    "articles"
   ]
  },
  {
   "cell_type": "code",
   "execution_count": 13,
   "metadata": {},
   "outputs": [
    {
     "data": {
      "text/plain": [
       "'<table border=\"1\" class=\"dataframe\">\\n  <thead>\\n    <tr style=\"text-align: right;\">\\n      <th></th>\\n      <th>title</th>\\n      <th>URL</th>\\n      <th>text</th>\\n      <th>date</th>\\n    </tr>\\n  </thead>\\n  <tbody>\\n    <tr>\\n      <th>0</th>\\n      <td>Validus: A dead simple Python data validation ...</td>\\n      <td>https://github.com/shopnilsazal/validus</td>\\n      <td></td>\\n      <td>2017-06-08</td>\\n    </tr>\\n    <tr>\\n      <th>1</th>\\n      <td>Show HN: Validus – A dead simple Python data v...</td>\\n      <td>https://github.com/shopnilsazal/validus</td>\\n      <td></td>\\n      <td>2017-06-18</td>\\n    </tr>\\n    <tr>\\n      <th>2</th>\\n      <td>Show HN: Validus - A dead simple Python string...</td>\\n      <td>https://github.com/shopnilsazal/validus</td>\\n      <td></td>\\n      <td>2017-12-15</td>\\n    </tr>\\n  </tbody>\\n</table>'"
      ]
     },
     "execution_count": 13,
     "metadata": {},
     "output_type": "execute_result"
    }
   ],
   "source": [
    "articles.to_html()"
   ]
  },
  {
   "cell_type": "code",
   "execution_count": null,
   "metadata": {
    "collapsed": true
   },
   "outputs": [],
   "source": []
  }
 ],
 "metadata": {
  "kernelspec": {
   "display_name": "Python 3",
   "language": "python",
   "name": "python3"
  },
  "language_info": {
   "codemirror_mode": {
    "name": "ipython",
    "version": 3
   },
   "file_extension": ".py",
   "mimetype": "text/x-python",
   "name": "python",
   "nbconvert_exporter": "python",
   "pygments_lexer": "ipython3",
   "version": "3.6.8"
  }
 },
 "nbformat": 4,
 "nbformat_minor": 2
}
